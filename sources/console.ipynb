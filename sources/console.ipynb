{
  "cells": [
    {
      "cell_type": "code",
      "execution_count": 14,
      "metadata": {},
      "outputs": [
        {
          "name": "stdout",
          "output_type": "stream",
          "text": [
            "Errore durante il caricamento del tokenizer: Internal: could not parse ModelProto from ../repo/LLAMA/llama-models/models/llama3_1/Meta-Llama-3.1-8B/tokenizer.model\n"
          ]
        }
      ],
      "source": [
        "import sentencepiece as spm\n",
        "\n",
        "tokenizer_path = \"../repo/LLAMA/llama-models/models/llama3_1/Meta-Llama-3.1-8B/tokenizer.model\"\n",
        "\n",
        "# Carica il tokenizer\n",
        "sp = spm.SentencePieceProcessor()\n",
        "try:\n",
        "    sp.load(tokenizer_path)\n",
        "    print(\"Tokenizer caricato correttamente\")\n",
        "except Exception as e:\n",
        "    print(\"Errore durante il caricamento del tokenizer:\", e)\n"
      ]
    }
  ],
  "metadata": {
    "kernelspec": {
      "display_name": ".venv",
      "language": "python",
      "name": "python3"
    },
    "language_info": {
      "codemirror_mode": {
        "name": "ipython",
        "version": 3
      },
      "file_extension": ".py",
      "mimetype": "text/x-python",
      "name": "python",
      "nbconvert_exporter": "python",
      "pygments_lexer": "ipython3",
      "version": "3.10.12"
    }
  },
  "nbformat": 4,
  "nbformat_minor": 2
}
